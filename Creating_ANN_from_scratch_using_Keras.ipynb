{
  "nbformat": 4,
  "nbformat_minor": 0,
  "metadata": {
    "colab": {
      "name": "Creating_ANN_from_scratch_using_Keras.ipynb",
      "provenance": [],
      "authorship_tag": "ABX9TyOMPziVry+2X6pd3G3UTodX",
      "include_colab_link": true
    },
    "kernelspec": {
      "name": "python3",
      "display_name": "Python 3"
    }
  },
  "cells": [
    {
      "cell_type": "markdown",
      "metadata": {
        "id": "view-in-github",
        "colab_type": "text"
      },
      "source": [
        "<a href=\"https://colab.research.google.com/github/charlie-aashutosh/Deep-Learning/blob/master/Creating_ANN_from_scratch_using_Keras.ipynb\" target=\"_parent\"><img src=\"https://colab.research.google.com/assets/colab-badge.svg\" alt=\"Open In Colab\"/></a>"
      ]
    },
    {
      "cell_type": "code",
      "metadata": {
        "id": "ITU2NDp2CJM2",
        "colab_type": "code",
        "colab": {}
      },
      "source": [
        "# Part 1 - Data Preprocessing\n",
        "\n",
        "# Importing the libraries\n",
        "import numpy as np\n",
        "import matplotlib.pyplot as plt\n",
        "import pandas as pd"
      ],
      "execution_count": 1,
      "outputs": []
    },
    {
      "cell_type": "code",
      "metadata": {
        "id": "Y7y-6VIFEz3Q",
        "colab_type": "code",
        "colab": {
          "resources": {
            "http://localhost:8080/nbextensions/google.colab/files.js": {
              "data": "Ly8gQ29weXJpZ2h0IDIwMTcgR29vZ2xlIExMQwovLwovLyBMaWNlbnNlZCB1bmRlciB0aGUgQXBhY2hlIExpY2Vuc2UsIFZlcnNpb24gMi4wICh0aGUgIkxpY2Vuc2UiKTsKLy8geW91IG1heSBub3QgdXNlIHRoaXMgZmlsZSBleGNlcHQgaW4gY29tcGxpYW5jZSB3aXRoIHRoZSBMaWNlbnNlLgovLyBZb3UgbWF5IG9idGFpbiBhIGNvcHkgb2YgdGhlIExpY2Vuc2UgYXQKLy8KLy8gICAgICBodHRwOi8vd3d3LmFwYWNoZS5vcmcvbGljZW5zZXMvTElDRU5TRS0yLjAKLy8KLy8gVW5sZXNzIHJlcXVpcmVkIGJ5IGFwcGxpY2FibGUgbGF3IG9yIGFncmVlZCB0byBpbiB3cml0aW5nLCBzb2Z0d2FyZQovLyBkaXN0cmlidXRlZCB1bmRlciB0aGUgTGljZW5zZSBpcyBkaXN0cmlidXRlZCBvbiBhbiAiQVMgSVMiIEJBU0lTLAovLyBXSVRIT1VUIFdBUlJBTlRJRVMgT1IgQ09ORElUSU9OUyBPRiBBTlkgS0lORCwgZWl0aGVyIGV4cHJlc3Mgb3IgaW1wbGllZC4KLy8gU2VlIHRoZSBMaWNlbnNlIGZvciB0aGUgc3BlY2lmaWMgbGFuZ3VhZ2UgZ292ZXJuaW5nIHBlcm1pc3Npb25zIGFuZAovLyBsaW1pdGF0aW9ucyB1bmRlciB0aGUgTGljZW5zZS4KCi8qKgogKiBAZmlsZW92ZXJ2aWV3IEhlbHBlcnMgZm9yIGdvb2dsZS5jb2xhYiBQeXRob24gbW9kdWxlLgogKi8KKGZ1bmN0aW9uKHNjb3BlKSB7CmZ1bmN0aW9uIHNwYW4odGV4dCwgc3R5bGVBdHRyaWJ1dGVzID0ge30pIHsKICBjb25zdCBlbGVtZW50ID0gZG9jdW1lbnQuY3JlYXRlRWxlbWVudCgnc3BhbicpOwogIGVsZW1lbnQudGV4dENvbnRlbnQgPSB0ZXh0OwogIGZvciAoY29uc3Qga2V5IG9mIE9iamVjdC5rZXlzKHN0eWxlQXR0cmlidXRlcykpIHsKICAgIGVsZW1lbnQuc3R5bGVba2V5XSA9IHN0eWxlQXR0cmlidXRlc1trZXldOwogIH0KICByZXR1cm4gZWxlbWVudDsKfQoKLy8gTWF4IG51bWJlciBvZiBieXRlcyB3aGljaCB3aWxsIGJlIHVwbG9hZGVkIGF0IGEgdGltZS4KY29uc3QgTUFYX1BBWUxPQURfU0laRSA9IDEwMCAqIDEwMjQ7CgpmdW5jdGlvbiBfdXBsb2FkRmlsZXMoaW5wdXRJZCwgb3V0cHV0SWQpIHsKICBjb25zdCBzdGVwcyA9IHVwbG9hZEZpbGVzU3RlcChpbnB1dElkLCBvdXRwdXRJZCk7CiAgY29uc3Qgb3V0cHV0RWxlbWVudCA9IGRvY3VtZW50LmdldEVsZW1lbnRCeUlkKG91dHB1dElkKTsKICAvLyBDYWNoZSBzdGVwcyBvbiB0aGUgb3V0cHV0RWxlbWVudCB0byBtYWtlIGl0IGF2YWlsYWJsZSBmb3IgdGhlIG5leHQgY2FsbAogIC8vIHRvIHVwbG9hZEZpbGVzQ29udGludWUgZnJvbSBQeXRob24uCiAgb3V0cHV0RWxlbWVudC5zdGVwcyA9IHN0ZXBzOwoKICByZXR1cm4gX3VwbG9hZEZpbGVzQ29udGludWUob3V0cHV0SWQpOwp9CgovLyBUaGlzIGlzIHJvdWdobHkgYW4gYXN5bmMgZ2VuZXJhdG9yIChub3Qgc3VwcG9ydGVkIGluIHRoZSBicm93c2VyIHlldCksCi8vIHdoZXJlIHRoZXJlIGFyZSBtdWx0aXBsZSBhc3luY2hyb25vdXMgc3RlcHMgYW5kIHRoZSBQeXRob24gc2lkZSBpcyBnb2luZwovLyB0byBwb2xsIGZvciBjb21wbGV0aW9uIG9mIGVhY2ggc3RlcC4KLy8gVGhpcyB1c2VzIGEgUHJvbWlzZSB0byBibG9jayB0aGUgcHl0aG9uIHNpZGUgb24gY29tcGxldGlvbiBvZiBlYWNoIHN0ZXAsCi8vIHRoZW4gcGFzc2VzIHRoZSByZXN1bHQgb2YgdGhlIHByZXZpb3VzIHN0ZXAgYXMgdGhlIGlucHV0IHRvIHRoZSBuZXh0IHN0ZXAuCmZ1bmN0aW9uIF91cGxvYWRGaWxlc0NvbnRpbnVlKG91dHB1dElkKSB7CiAgY29uc3Qgb3V0cHV0RWxlbWVudCA9IGRvY3VtZW50LmdldEVsZW1lbnRCeUlkKG91dHB1dElkKTsKICBjb25zdCBzdGVwcyA9IG91dHB1dEVsZW1lbnQuc3RlcHM7CgogIGNvbnN0IG5leHQgPSBzdGVwcy5uZXh0KG91dHB1dEVsZW1lbnQubGFzdFByb21pc2VWYWx1ZSk7CiAgcmV0dXJuIFByb21pc2UucmVzb2x2ZShuZXh0LnZhbHVlLnByb21pc2UpLnRoZW4oKHZhbHVlKSA9PiB7CiAgICAvLyBDYWNoZSB0aGUgbGFzdCBwcm9taXNlIHZhbHVlIHRvIG1ha2UgaXQgYXZhaWxhYmxlIHRvIHRoZSBuZXh0CiAgICAvLyBzdGVwIG9mIHRoZSBnZW5lcmF0b3IuCiAgICBvdXRwdXRFbGVtZW50Lmxhc3RQcm9taXNlVmFsdWUgPSB2YWx1ZTsKICAgIHJldHVybiBuZXh0LnZhbHVlLnJlc3BvbnNlOwogIH0pOwp9CgovKioKICogR2VuZXJhdG9yIGZ1bmN0aW9uIHdoaWNoIGlzIGNhbGxlZCBiZXR3ZWVuIGVhY2ggYXN5bmMgc3RlcCBvZiB0aGUgdXBsb2FkCiAqIHByb2Nlc3MuCiAqIEBwYXJhbSB7c3RyaW5nfSBpbnB1dElkIEVsZW1lbnQgSUQgb2YgdGhlIGlucHV0IGZpbGUgcGlja2VyIGVsZW1lbnQuCiAqIEBwYXJhbSB7c3RyaW5nfSBvdXRwdXRJZCBFbGVtZW50IElEIG9mIHRoZSBvdXRwdXQgZGlzcGxheS4KICogQHJldHVybiB7IUl0ZXJhYmxlPCFPYmplY3Q+fSBJdGVyYWJsZSBvZiBuZXh0IHN0ZXBzLgogKi8KZnVuY3Rpb24qIHVwbG9hZEZpbGVzU3RlcChpbnB1dElkLCBvdXRwdXRJZCkgewogIGNvbnN0IGlucHV0RWxlbWVudCA9IGRvY3VtZW50LmdldEVsZW1lbnRCeUlkKGlucHV0SWQpOwogIGlucHV0RWxlbWVudC5kaXNhYmxlZCA9IGZhbHNlOwoKICBjb25zdCBvdXRwdXRFbGVtZW50ID0gZG9jdW1lbnQuZ2V0RWxlbWVudEJ5SWQob3V0cHV0SWQpOwogIG91dHB1dEVsZW1lbnQuaW5uZXJIVE1MID0gJyc7CgogIGNvbnN0IHBpY2tlZFByb21pc2UgPSBuZXcgUHJvbWlzZSgocmVzb2x2ZSkgPT4gewogICAgaW5wdXRFbGVtZW50LmFkZEV2ZW50TGlzdGVuZXIoJ2NoYW5nZScsIChlKSA9PiB7CiAgICAgIHJlc29sdmUoZS50YXJnZXQuZmlsZXMpOwogICAgfSk7CiAgfSk7CgogIGNvbnN0IGNhbmNlbCA9IGRvY3VtZW50LmNyZWF0ZUVsZW1lbnQoJ2J1dHRvbicpOwogIGlucHV0RWxlbWVudC5wYXJlbnRFbGVtZW50LmFwcGVuZENoaWxkKGNhbmNlbCk7CiAgY2FuY2VsLnRleHRDb250ZW50ID0gJ0NhbmNlbCB1cGxvYWQnOwogIGNvbnN0IGNhbmNlbFByb21pc2UgPSBuZXcgUHJvbWlzZSgocmVzb2x2ZSkgPT4gewogICAgY2FuY2VsLm9uY2xpY2sgPSAoKSA9PiB7CiAgICAgIHJlc29sdmUobnVsbCk7CiAgICB9OwogIH0pOwoKICAvLyBXYWl0IGZvciB0aGUgdXNlciB0byBwaWNrIHRoZSBmaWxlcy4KICBjb25zdCBmaWxlcyA9IHlpZWxkIHsKICAgIHByb21pc2U6IFByb21pc2UucmFjZShbcGlja2VkUHJvbWlzZSwgY2FuY2VsUHJvbWlzZV0pLAogICAgcmVzcG9uc2U6IHsKICAgICAgYWN0aW9uOiAnc3RhcnRpbmcnLAogICAgfQogIH07CgogIGNhbmNlbC5yZW1vdmUoKTsKCiAgLy8gRGlzYWJsZSB0aGUgaW5wdXQgZWxlbWVudCBzaW5jZSBmdXJ0aGVyIHBpY2tzIGFyZSBub3QgYWxsb3dlZC4KICBpbnB1dEVsZW1lbnQuZGlzYWJsZWQgPSB0cnVlOwoKICBpZiAoIWZpbGVzKSB7CiAgICByZXR1cm4gewogICAgICByZXNwb25zZTogewogICAgICAgIGFjdGlvbjogJ2NvbXBsZXRlJywKICAgICAgfQogICAgfTsKICB9CgogIGZvciAoY29uc3QgZmlsZSBvZiBmaWxlcykgewogICAgY29uc3QgbGkgPSBkb2N1bWVudC5jcmVhdGVFbGVtZW50KCdsaScpOwogICAgbGkuYXBwZW5kKHNwYW4oZmlsZS5uYW1lLCB7Zm9udFdlaWdodDogJ2JvbGQnfSkpOwogICAgbGkuYXBwZW5kKHNwYW4oCiAgICAgICAgYCgke2ZpbGUudHlwZSB8fCAnbi9hJ30pIC0gJHtmaWxlLnNpemV9IGJ5dGVzLCBgICsKICAgICAgICBgbGFzdCBtb2RpZmllZDogJHsKICAgICAgICAgICAgZmlsZS5sYXN0TW9kaWZpZWREYXRlID8gZmlsZS5sYXN0TW9kaWZpZWREYXRlLnRvTG9jYWxlRGF0ZVN0cmluZygpIDoKICAgICAgICAgICAgICAgICAgICAgICAgICAgICAgICAgICAgJ24vYSd9IC0gYCkpOwogICAgY29uc3QgcGVyY2VudCA9IHNwYW4oJzAlIGRvbmUnKTsKICAgIGxpLmFwcGVuZENoaWxkKHBlcmNlbnQpOwoKICAgIG91dHB1dEVsZW1lbnQuYXBwZW5kQ2hpbGQobGkpOwoKICAgIGNvbnN0IGZpbGVEYXRhUHJvbWlzZSA9IG5ldyBQcm9taXNlKChyZXNvbHZlKSA9PiB7CiAgICAgIGNvbnN0IHJlYWRlciA9IG5ldyBGaWxlUmVhZGVyKCk7CiAgICAgIHJlYWRlci5vbmxvYWQgPSAoZSkgPT4gewogICAgICAgIHJlc29sdmUoZS50YXJnZXQucmVzdWx0KTsKICAgICAgfTsKICAgICAgcmVhZGVyLnJlYWRBc0FycmF5QnVmZmVyKGZpbGUpOwogICAgfSk7CiAgICAvLyBXYWl0IGZvciB0aGUgZGF0YSB0byBiZSByZWFkeS4KICAgIGxldCBmaWxlRGF0YSA9IHlpZWxkIHsKICAgICAgcHJvbWlzZTogZmlsZURhdGFQcm9taXNlLAogICAgICByZXNwb25zZTogewogICAgICAgIGFjdGlvbjogJ2NvbnRpbnVlJywKICAgICAgfQogICAgfTsKCiAgICAvLyBVc2UgYSBjaHVua2VkIHNlbmRpbmcgdG8gYXZvaWQgbWVzc2FnZSBzaXplIGxpbWl0cy4gU2VlIGIvNjIxMTU2NjAuCiAgICBsZXQgcG9zaXRpb24gPSAwOwogICAgd2hpbGUgKHBvc2l0aW9uIDwgZmlsZURhdGEuYnl0ZUxlbmd0aCkgewogICAgICBjb25zdCBsZW5ndGggPSBNYXRoLm1pbihmaWxlRGF0YS5ieXRlTGVuZ3RoIC0gcG9zaXRpb24sIE1BWF9QQVlMT0FEX1NJWkUpOwogICAgICBjb25zdCBjaHVuayA9IG5ldyBVaW50OEFycmF5KGZpbGVEYXRhLCBwb3NpdGlvbiwgbGVuZ3RoKTsKICAgICAgcG9zaXRpb24gKz0gbGVuZ3RoOwoKICAgICAgY29uc3QgYmFzZTY0ID0gYnRvYShTdHJpbmcuZnJvbUNoYXJDb2RlLmFwcGx5KG51bGwsIGNodW5rKSk7CiAgICAgIHlpZWxkIHsKICAgICAgICByZXNwb25zZTogewogICAgICAgICAgYWN0aW9uOiAnYXBwZW5kJywKICAgICAgICAgIGZpbGU6IGZpbGUubmFtZSwKICAgICAgICAgIGRhdGE6IGJhc2U2NCwKICAgICAgICB9LAogICAgICB9OwogICAgICBwZXJjZW50LnRleHRDb250ZW50ID0KICAgICAgICAgIGAke01hdGgucm91bmQoKHBvc2l0aW9uIC8gZmlsZURhdGEuYnl0ZUxlbmd0aCkgKiAxMDApfSUgZG9uZWA7CiAgICB9CiAgfQoKICAvLyBBbGwgZG9uZS4KICB5aWVsZCB7CiAgICByZXNwb25zZTogewogICAgICBhY3Rpb246ICdjb21wbGV0ZScsCiAgICB9CiAgfTsKfQoKc2NvcGUuZ29vZ2xlID0gc2NvcGUuZ29vZ2xlIHx8IHt9OwpzY29wZS5nb29nbGUuY29sYWIgPSBzY29wZS5nb29nbGUuY29sYWIgfHwge307CnNjb3BlLmdvb2dsZS5jb2xhYi5fZmlsZXMgPSB7CiAgX3VwbG9hZEZpbGVzLAogIF91cGxvYWRGaWxlc0NvbnRpbnVlLAp9Owp9KShzZWxmKTsK",
              "ok": true,
              "headers": [
                [
                  "content-type",
                  "application/javascript"
                ]
              ],
              "status": 200,
              "status_text": ""
            }
          },
          "base_uri": "https://localhost:8080/",
          "height": 73
        },
        "outputId": "b9eab4be-dae5-4d80-821c-1e820603e2f8"
      },
      "source": [
        "# Importing the dataset\n",
        "from google.colab import files\n",
        "files=files.upload()\n"
      ],
      "execution_count": 2,
      "outputs": [
        {
          "output_type": "display_data",
          "data": {
            "text/html": [
              "\n",
              "     <input type=\"file\" id=\"files-528c1de4-bff5-4918-88f6-eaefd2708b4e\" name=\"files[]\" multiple disabled\n",
              "        style=\"border:none\" />\n",
              "     <output id=\"result-528c1de4-bff5-4918-88f6-eaefd2708b4e\">\n",
              "      Upload widget is only available when the cell has been executed in the\n",
              "      current browser session. Please rerun this cell to enable.\n",
              "      </output>\n",
              "      <script src=\"/nbextensions/google.colab/files.js\"></script> "
            ],
            "text/plain": [
              "<IPython.core.display.HTML object>"
            ]
          },
          "metadata": {
            "tags": []
          }
        },
        {
          "output_type": "stream",
          "text": [
            "Saving Churn_Modelling.csv to Churn_Modelling.csv\n"
          ],
          "name": "stdout"
        }
      ]
    },
    {
      "cell_type": "code",
      "metadata": {
        "id": "Qb6vTnZgFC8h",
        "colab_type": "code",
        "colab": {}
      },
      "source": [
        "df = pd.read_csv('Churn_Modelling.csv')\n",
        "X = df.iloc[:, 3:13]\n",
        "y = df.iloc[:, 13]"
      ],
      "execution_count": 4,
      "outputs": []
    },
    {
      "cell_type": "code",
      "metadata": {
        "id": "xFiIm6WxFODx",
        "colab_type": "code",
        "colab": {
          "base_uri": "https://localhost:8080/",
          "height": 194
        },
        "outputId": "675a07b9-076a-47d1-cb28-bfe3d25b0a49"
      },
      "source": [
        "df.head()"
      ],
      "execution_count": 5,
      "outputs": [
        {
          "output_type": "execute_result",
          "data": {
            "text/html": [
              "<div>\n",
              "<style scoped>\n",
              "    .dataframe tbody tr th:only-of-type {\n",
              "        vertical-align: middle;\n",
              "    }\n",
              "\n",
              "    .dataframe tbody tr th {\n",
              "        vertical-align: top;\n",
              "    }\n",
              "\n",
              "    .dataframe thead th {\n",
              "        text-align: right;\n",
              "    }\n",
              "</style>\n",
              "<table border=\"1\" class=\"dataframe\">\n",
              "  <thead>\n",
              "    <tr style=\"text-align: right;\">\n",
              "      <th></th>\n",
              "      <th>RowNumber</th>\n",
              "      <th>CustomerId</th>\n",
              "      <th>Surname</th>\n",
              "      <th>CreditScore</th>\n",
              "      <th>Geography</th>\n",
              "      <th>Gender</th>\n",
              "      <th>Age</th>\n",
              "      <th>Tenure</th>\n",
              "      <th>Balance</th>\n",
              "      <th>NumOfProducts</th>\n",
              "      <th>HasCrCard</th>\n",
              "      <th>IsActiveMember</th>\n",
              "      <th>EstimatedSalary</th>\n",
              "      <th>Exited</th>\n",
              "    </tr>\n",
              "  </thead>\n",
              "  <tbody>\n",
              "    <tr>\n",
              "      <th>0</th>\n",
              "      <td>1</td>\n",
              "      <td>15634602</td>\n",
              "      <td>Hargrave</td>\n",
              "      <td>619</td>\n",
              "      <td>France</td>\n",
              "      <td>Female</td>\n",
              "      <td>42</td>\n",
              "      <td>2</td>\n",
              "      <td>0.00</td>\n",
              "      <td>1</td>\n",
              "      <td>1</td>\n",
              "      <td>1</td>\n",
              "      <td>101348.88</td>\n",
              "      <td>1</td>\n",
              "    </tr>\n",
              "    <tr>\n",
              "      <th>1</th>\n",
              "      <td>2</td>\n",
              "      <td>15647311</td>\n",
              "      <td>Hill</td>\n",
              "      <td>608</td>\n",
              "      <td>Spain</td>\n",
              "      <td>Female</td>\n",
              "      <td>41</td>\n",
              "      <td>1</td>\n",
              "      <td>83807.86</td>\n",
              "      <td>1</td>\n",
              "      <td>0</td>\n",
              "      <td>1</td>\n",
              "      <td>112542.58</td>\n",
              "      <td>0</td>\n",
              "    </tr>\n",
              "    <tr>\n",
              "      <th>2</th>\n",
              "      <td>3</td>\n",
              "      <td>15619304</td>\n",
              "      <td>Onio</td>\n",
              "      <td>502</td>\n",
              "      <td>France</td>\n",
              "      <td>Female</td>\n",
              "      <td>42</td>\n",
              "      <td>8</td>\n",
              "      <td>159660.80</td>\n",
              "      <td>3</td>\n",
              "      <td>1</td>\n",
              "      <td>0</td>\n",
              "      <td>113931.57</td>\n",
              "      <td>1</td>\n",
              "    </tr>\n",
              "    <tr>\n",
              "      <th>3</th>\n",
              "      <td>4</td>\n",
              "      <td>15701354</td>\n",
              "      <td>Boni</td>\n",
              "      <td>699</td>\n",
              "      <td>France</td>\n",
              "      <td>Female</td>\n",
              "      <td>39</td>\n",
              "      <td>1</td>\n",
              "      <td>0.00</td>\n",
              "      <td>2</td>\n",
              "      <td>0</td>\n",
              "      <td>0</td>\n",
              "      <td>93826.63</td>\n",
              "      <td>0</td>\n",
              "    </tr>\n",
              "    <tr>\n",
              "      <th>4</th>\n",
              "      <td>5</td>\n",
              "      <td>15737888</td>\n",
              "      <td>Mitchell</td>\n",
              "      <td>850</td>\n",
              "      <td>Spain</td>\n",
              "      <td>Female</td>\n",
              "      <td>43</td>\n",
              "      <td>2</td>\n",
              "      <td>125510.82</td>\n",
              "      <td>1</td>\n",
              "      <td>1</td>\n",
              "      <td>1</td>\n",
              "      <td>79084.10</td>\n",
              "      <td>0</td>\n",
              "    </tr>\n",
              "  </tbody>\n",
              "</table>\n",
              "</div>"
            ],
            "text/plain": [
              "   RowNumber  CustomerId   Surname  ...  IsActiveMember EstimatedSalary Exited\n",
              "0          1    15634602  Hargrave  ...               1       101348.88      1\n",
              "1          2    15647311      Hill  ...               1       112542.58      0\n",
              "2          3    15619304      Onio  ...               0       113931.57      1\n",
              "3          4    15701354      Boni  ...               0        93826.63      0\n",
              "4          5    15737888  Mitchell  ...               1        79084.10      0\n",
              "\n",
              "[5 rows x 14 columns]"
            ]
          },
          "metadata": {
            "tags": []
          },
          "execution_count": 5
        }
      ]
    },
    {
      "cell_type": "code",
      "metadata": {
        "id": "-NnFbDTxFTRk",
        "colab_type": "code",
        "colab": {
          "base_uri": "https://localhost:8080/",
          "height": 194
        },
        "outputId": "81c2473f-ca51-440f-ae76-00352f431431"
      },
      "source": [
        "X.head()"
      ],
      "execution_count": 6,
      "outputs": [
        {
          "output_type": "execute_result",
          "data": {
            "text/html": [
              "<div>\n",
              "<style scoped>\n",
              "    .dataframe tbody tr th:only-of-type {\n",
              "        vertical-align: middle;\n",
              "    }\n",
              "\n",
              "    .dataframe tbody tr th {\n",
              "        vertical-align: top;\n",
              "    }\n",
              "\n",
              "    .dataframe thead th {\n",
              "        text-align: right;\n",
              "    }\n",
              "</style>\n",
              "<table border=\"1\" class=\"dataframe\">\n",
              "  <thead>\n",
              "    <tr style=\"text-align: right;\">\n",
              "      <th></th>\n",
              "      <th>CreditScore</th>\n",
              "      <th>Geography</th>\n",
              "      <th>Gender</th>\n",
              "      <th>Age</th>\n",
              "      <th>Tenure</th>\n",
              "      <th>Balance</th>\n",
              "      <th>NumOfProducts</th>\n",
              "      <th>HasCrCard</th>\n",
              "      <th>IsActiveMember</th>\n",
              "      <th>EstimatedSalary</th>\n",
              "    </tr>\n",
              "  </thead>\n",
              "  <tbody>\n",
              "    <tr>\n",
              "      <th>0</th>\n",
              "      <td>619</td>\n",
              "      <td>France</td>\n",
              "      <td>Female</td>\n",
              "      <td>42</td>\n",
              "      <td>2</td>\n",
              "      <td>0.00</td>\n",
              "      <td>1</td>\n",
              "      <td>1</td>\n",
              "      <td>1</td>\n",
              "      <td>101348.88</td>\n",
              "    </tr>\n",
              "    <tr>\n",
              "      <th>1</th>\n",
              "      <td>608</td>\n",
              "      <td>Spain</td>\n",
              "      <td>Female</td>\n",
              "      <td>41</td>\n",
              "      <td>1</td>\n",
              "      <td>83807.86</td>\n",
              "      <td>1</td>\n",
              "      <td>0</td>\n",
              "      <td>1</td>\n",
              "      <td>112542.58</td>\n",
              "    </tr>\n",
              "    <tr>\n",
              "      <th>2</th>\n",
              "      <td>502</td>\n",
              "      <td>France</td>\n",
              "      <td>Female</td>\n",
              "      <td>42</td>\n",
              "      <td>8</td>\n",
              "      <td>159660.80</td>\n",
              "      <td>3</td>\n",
              "      <td>1</td>\n",
              "      <td>0</td>\n",
              "      <td>113931.57</td>\n",
              "    </tr>\n",
              "    <tr>\n",
              "      <th>3</th>\n",
              "      <td>699</td>\n",
              "      <td>France</td>\n",
              "      <td>Female</td>\n",
              "      <td>39</td>\n",
              "      <td>1</td>\n",
              "      <td>0.00</td>\n",
              "      <td>2</td>\n",
              "      <td>0</td>\n",
              "      <td>0</td>\n",
              "      <td>93826.63</td>\n",
              "    </tr>\n",
              "    <tr>\n",
              "      <th>4</th>\n",
              "      <td>850</td>\n",
              "      <td>Spain</td>\n",
              "      <td>Female</td>\n",
              "      <td>43</td>\n",
              "      <td>2</td>\n",
              "      <td>125510.82</td>\n",
              "      <td>1</td>\n",
              "      <td>1</td>\n",
              "      <td>1</td>\n",
              "      <td>79084.10</td>\n",
              "    </tr>\n",
              "  </tbody>\n",
              "</table>\n",
              "</div>"
            ],
            "text/plain": [
              "   CreditScore Geography  Gender  ...  HasCrCard  IsActiveMember  EstimatedSalary\n",
              "0          619    France  Female  ...          1               1        101348.88\n",
              "1          608     Spain  Female  ...          0               1        112542.58\n",
              "2          502    France  Female  ...          1               0        113931.57\n",
              "3          699    France  Female  ...          0               0         93826.63\n",
              "4          850     Spain  Female  ...          1               1         79084.10\n",
              "\n",
              "[5 rows x 10 columns]"
            ]
          },
          "metadata": {
            "tags": []
          },
          "execution_count": 6
        }
      ]
    },
    {
      "cell_type": "code",
      "metadata": {
        "id": "kNooO-2sFVkM",
        "colab_type": "code",
        "colab": {
          "base_uri": "https://localhost:8080/",
          "height": 124
        },
        "outputId": "75b0fa25-acfc-4ef7-9b33-dc4c6706dae6"
      },
      "source": [
        "y.head()"
      ],
      "execution_count": 7,
      "outputs": [
        {
          "output_type": "execute_result",
          "data": {
            "text/plain": [
              "0    1\n",
              "1    0\n",
              "2    1\n",
              "3    0\n",
              "4    0\n",
              "Name: Exited, dtype: int64"
            ]
          },
          "metadata": {
            "tags": []
          },
          "execution_count": 7
        }
      ]
    },
    {
      "cell_type": "code",
      "metadata": {
        "id": "QPXlbPY4FW7H",
        "colab_type": "code",
        "colab": {}
      },
      "source": [
        "#converting the categorical data - by using dummy variables\n",
        "geography=pd.get_dummies(X[\"Geography\"],drop_first=True)\n",
        "gender=pd.get_dummies(X['Gender'],drop_first=True)"
      ],
      "execution_count": 8,
      "outputs": []
    },
    {
      "cell_type": "code",
      "metadata": {
        "id": "gBWjg-nbFwQF",
        "colab_type": "code",
        "colab": {
          "base_uri": "https://localhost:8080/",
          "height": 194
        },
        "outputId": "9a2f768d-7543-41d4-db16-85d96c9e9a4b"
      },
      "source": [
        "geography.head()"
      ],
      "execution_count": 9,
      "outputs": [
        {
          "output_type": "execute_result",
          "data": {
            "text/html": [
              "<div>\n",
              "<style scoped>\n",
              "    .dataframe tbody tr th:only-of-type {\n",
              "        vertical-align: middle;\n",
              "    }\n",
              "\n",
              "    .dataframe tbody tr th {\n",
              "        vertical-align: top;\n",
              "    }\n",
              "\n",
              "    .dataframe thead th {\n",
              "        text-align: right;\n",
              "    }\n",
              "</style>\n",
              "<table border=\"1\" class=\"dataframe\">\n",
              "  <thead>\n",
              "    <tr style=\"text-align: right;\">\n",
              "      <th></th>\n",
              "      <th>Germany</th>\n",
              "      <th>Spain</th>\n",
              "    </tr>\n",
              "  </thead>\n",
              "  <tbody>\n",
              "    <tr>\n",
              "      <th>0</th>\n",
              "      <td>0</td>\n",
              "      <td>0</td>\n",
              "    </tr>\n",
              "    <tr>\n",
              "      <th>1</th>\n",
              "      <td>0</td>\n",
              "      <td>1</td>\n",
              "    </tr>\n",
              "    <tr>\n",
              "      <th>2</th>\n",
              "      <td>0</td>\n",
              "      <td>0</td>\n",
              "    </tr>\n",
              "    <tr>\n",
              "      <th>3</th>\n",
              "      <td>0</td>\n",
              "      <td>0</td>\n",
              "    </tr>\n",
              "    <tr>\n",
              "      <th>4</th>\n",
              "      <td>0</td>\n",
              "      <td>1</td>\n",
              "    </tr>\n",
              "  </tbody>\n",
              "</table>\n",
              "</div>"
            ],
            "text/plain": [
              "   Germany  Spain\n",
              "0        0      0\n",
              "1        0      1\n",
              "2        0      0\n",
              "3        0      0\n",
              "4        0      1"
            ]
          },
          "metadata": {
            "tags": []
          },
          "execution_count": 9
        }
      ]
    },
    {
      "cell_type": "code",
      "metadata": {
        "id": "1FgYGk9yF1s9",
        "colab_type": "code",
        "colab": {
          "base_uri": "https://localhost:8080/",
          "height": 194
        },
        "outputId": "1f7e2ae2-4d59-4847-decd-a067a9e4b654"
      },
      "source": [
        "gender.head()"
      ],
      "execution_count": 10,
      "outputs": [
        {
          "output_type": "execute_result",
          "data": {
            "text/html": [
              "<div>\n",
              "<style scoped>\n",
              "    .dataframe tbody tr th:only-of-type {\n",
              "        vertical-align: middle;\n",
              "    }\n",
              "\n",
              "    .dataframe tbody tr th {\n",
              "        vertical-align: top;\n",
              "    }\n",
              "\n",
              "    .dataframe thead th {\n",
              "        text-align: right;\n",
              "    }\n",
              "</style>\n",
              "<table border=\"1\" class=\"dataframe\">\n",
              "  <thead>\n",
              "    <tr style=\"text-align: right;\">\n",
              "      <th></th>\n",
              "      <th>Male</th>\n",
              "    </tr>\n",
              "  </thead>\n",
              "  <tbody>\n",
              "    <tr>\n",
              "      <th>0</th>\n",
              "      <td>0</td>\n",
              "    </tr>\n",
              "    <tr>\n",
              "      <th>1</th>\n",
              "      <td>0</td>\n",
              "    </tr>\n",
              "    <tr>\n",
              "      <th>2</th>\n",
              "      <td>0</td>\n",
              "    </tr>\n",
              "    <tr>\n",
              "      <th>3</th>\n",
              "      <td>0</td>\n",
              "    </tr>\n",
              "    <tr>\n",
              "      <th>4</th>\n",
              "      <td>0</td>\n",
              "    </tr>\n",
              "  </tbody>\n",
              "</table>\n",
              "</div>"
            ],
            "text/plain": [
              "   Male\n",
              "0     0\n",
              "1     0\n",
              "2     0\n",
              "3     0\n",
              "4     0"
            ]
          },
          "metadata": {
            "tags": []
          },
          "execution_count": 10
        }
      ]
    },
    {
      "cell_type": "code",
      "metadata": {
        "id": "Y1JyUXhjF3W1",
        "colab_type": "code",
        "colab": {}
      },
      "source": [
        "#concatinating these into X dataset\n",
        "X=pd.concat([X,geography,gender],axis=1)\n",
        "\n",
        "## Drop Unnecessary columns - since we converted them to dummy variables\n",
        "X=X.drop(['Geography','Gender'],axis=1)\n"
      ],
      "execution_count": 11,
      "outputs": []
    },
    {
      "cell_type": "code",
      "metadata": {
        "id": "1aKyKqgHGJM6",
        "colab_type": "code",
        "colab": {}
      },
      "source": [
        "# Splitting the dataset into the Training set and Test set\n",
        "from sklearn.model_selection import train_test_split\n",
        "X_train, X_test, y_train, y_test = train_test_split(X, y, test_size = 0.2, random_state = 0)"
      ],
      "execution_count": 12,
      "outputs": []
    },
    {
      "cell_type": "markdown",
      "metadata": {
        "id": "N-E5bZyeH5JC",
        "colab_type": "text"
      },
      "source": [
        "Feature Scaling - at times x1, x2, x3 and so on have different magnitude and so while computing wi.xi+bi - it would take time so we try to scale all the given imput features to one scale - we will be able to reach the globl minima easily and wt. updation will be also easy while performing backpropagation"
      ]
    },
    {
      "cell_type": "code",
      "metadata": {
        "id": "Tf6AfetvGP6s",
        "colab_type": "code",
        "colab": {}
      },
      "source": [
        "# Feature Scaling -\n",
        "from sklearn.preprocessing import StandardScaler\n",
        "sc = StandardScaler()\n",
        "X_train = sc.fit_transform(X_train)\n",
        "X_test = sc.transform(X_test)"
      ],
      "execution_count": 15,
      "outputs": []
    },
    {
      "cell_type": "markdown",
      "metadata": {
        "id": "VZ7_ksunITk8",
        "colab_type": "text"
      },
      "source": [
        "1.Sequential - used for creating NN\n",
        "2.Dense - the hidden layers we want in our NN\n",
        "3.LeakyReLU and others are the activation funtions used\n",
        "4.Dropout - used for Regularization"
      ]
    },
    {
      "cell_type": "code",
      "metadata": {
        "id": "EDw57xsbGgrT",
        "colab_type": "code",
        "colab": {
          "base_uri": "https://localhost:8080/",
          "height": 35
        },
        "outputId": "08ea6710-3626-49b9-bcfd-37d0bdf6a99b"
      },
      "source": [
        "# Now let's make the ANN!\n",
        "\n",
        "# Importing the Keras libraries and packages\n",
        "import keras\n",
        "from keras.models import Sequential\n",
        "from keras.layers import Dense\n",
        "from keras.layers import LeakyReLU,PReLU,ELU\n",
        "from keras.layers import Dropout"
      ],
      "execution_count": 14,
      "outputs": [
        {
          "output_type": "stream",
          "text": [
            "Using TensorFlow backend.\n"
          ],
          "name": "stderr"
        }
      ]
    },
    {
      "cell_type": "code",
      "metadata": {
        "id": "n1rrFvNhGl4G",
        "colab_type": "code",
        "colab": {}
      },
      "source": [
        "# Initialising the ANN - empty NN\n",
        "classifier = Sequential()"
      ],
      "execution_count": 16,
      "outputs": []
    },
    {
      "cell_type": "code",
      "metadata": {
        "id": "qhOnIAfhI7N8",
        "colab_type": "code",
        "colab": {
          "base_uri": "https://localhost:8080/",
          "height": 52
        },
        "outputId": "53752bd2-db99-4116-af38-37034de901da"
      },
      "source": [
        "\n",
        "# Adding the input layer and the first hidden layer\n",
        "classifier.add(Dense(output_dim = 6, init = 'he_uniform',activation='relu',input_dim = 11))"
      ],
      "execution_count": 18,
      "outputs": [
        {
          "output_type": "stream",
          "text": [
            "/usr/local/lib/python3.6/dist-packages/ipykernel_launcher.py:3: UserWarning: Update your `Dense` call to the Keras 2 API: `Dense(activation=\"relu\", input_dim=11, units=6, kernel_initializer=\"he_uniform\")`\n",
            "  This is separate from the ipykernel package so we can avoid doing imports until\n"
          ],
          "name": "stderr"
        }
      ]
    },
    {
      "cell_type": "code",
      "metadata": {
        "id": "wjn0Q1HkJOxB",
        "colab_type": "code",
        "colab": {}
      },
      "source": [
        "\n",
        "# Adding the input layer and the first hidden layer\n",
        "classifier.add(Dense(units= 6, kernel_initializer= 'he_uniform',activation='relu',input_dim = 11))\n",
        "classifier.add(Dropout(0.3))"
      ],
      "execution_count": 30,
      "outputs": []
    },
    {
      "cell_type": "code",
      "metadata": {
        "id": "9Jukww8cJBIe",
        "colab_type": "code",
        "colab": {}
      },
      "source": [
        "\n",
        "# Adding the second hidden layer\n",
        "classifier.add(Dense(units= 6, kernel_initializer= 'he_uniform',activation='relu'))\n",
        "classifier.add(Dropout(0.4))\n",
        "# Adding the output layer\n",
        "classifier.add(Dense(units= 1, kernel_initializer= 'glorot_uniform', activation = 'sigmoid'))\n",
        "classifier.add(Dropout(0.2))"
      ],
      "execution_count": 31,
      "outputs": []
    },
    {
      "cell_type": "code",
      "metadata": {
        "id": "aJ3r0yU5KVQY",
        "colab_type": "code",
        "colab": {
          "base_uri": "https://localhost:8080/",
          "height": 606
        },
        "outputId": "af34a3c5-b62c-44b8-fba9-e6b74c6657b9"
      },
      "source": [
        "classifier.summary()"
      ],
      "execution_count": 32,
      "outputs": [
        {
          "output_type": "stream",
          "text": [
            "Model: \"sequential_1\"\n",
            "_________________________________________________________________\n",
            "Layer (type)                 Output Shape              Param #   \n",
            "=================================================================\n",
            "dense_1 (Dense)              (None, 6)                 72        \n",
            "_________________________________________________________________\n",
            "dense_2 (Dense)              (None, 6)                 42        \n",
            "_________________________________________________________________\n",
            "dense_3 (Dense)              (None, 6)                 42        \n",
            "_________________________________________________________________\n",
            "dense_4 (Dense)              (None, 6)                 42        \n",
            "_________________________________________________________________\n",
            "dense_5 (Dense)              (None, 1)                 7         \n",
            "_________________________________________________________________\n",
            "dense_6 (Dense)              (None, 6)                 12        \n",
            "_________________________________________________________________\n",
            "dropout_1 (Dropout)          (None, 6)                 0         \n",
            "_________________________________________________________________\n",
            "dense_7 (Dense)              (None, 6)                 42        \n",
            "_________________________________________________________________\n",
            "dropout_2 (Dropout)          (None, 6)                 0         \n",
            "_________________________________________________________________\n",
            "dense_8 (Dense)              (None, 1)                 7         \n",
            "_________________________________________________________________\n",
            "dropout_3 (Dropout)          (None, 1)                 0         \n",
            "=================================================================\n",
            "Total params: 205\n",
            "Trainable params: 205\n",
            "Non-trainable params: 0\n",
            "_________________________________________________________________\n"
          ],
          "name": "stdout"
        },
        {
          "output_type": "stream",
          "text": [
            "/usr/local/lib/python3.6/dist-packages/keras/engine/training.py:297: UserWarning: Discrepancy between trainable weights and collected trainable weights, did you set `model.trainable` without calling `model.compile` after ?\n",
            "  'Discrepancy between trainable weights and collected trainable'\n"
          ],
          "name": "stderr"
        }
      ]
    },
    {
      "cell_type": "code",
      "metadata": {
        "id": "sk5PAem8JwEm",
        "colab_type": "code",
        "colab": {
          "base_uri": "https://localhost:8080/",
          "height": 1000
        },
        "outputId": "59eae2c7-1914-498f-c6db-eb09fcab9fa6"
      },
      "source": [
        "# Compiling the ANN\n",
        "classifier.compile(optimizer = 'adam', loss = 'binary_crossentropy', metrics = ['accuracy'])\n",
        "\n",
        "# Fitting the ANN to the Training set\n",
        "model_history=classifier.fit(X_train, y_train,validation_split=0.33, batch_size = 10, nb_epoch = 100)"
      ],
      "execution_count": 33,
      "outputs": [
        {
          "output_type": "stream",
          "text": [
            "/usr/local/lib/python3.6/dist-packages/ipykernel_launcher.py:5: UserWarning: The `nb_epoch` argument in `fit` has been renamed `epochs`.\n",
            "  \"\"\"\n"
          ],
          "name": "stderr"
        },
        {
          "output_type": "stream",
          "text": [
            "Train on 5359 samples, validate on 2641 samples\n",
            "Epoch 1/100\n",
            "5359/5359 [==============================] - 2s 345us/step - loss: 1.1211 - accuracy: 0.6397 - val_loss: 0.4712 - val_accuracy: 0.7955\n",
            "Epoch 2/100\n",
            "5359/5359 [==============================] - 1s 268us/step - loss: 1.0708 - accuracy: 0.7608 - val_loss: 0.4566 - val_accuracy: 0.7955\n",
            "Epoch 3/100\n",
            "5359/5359 [==============================] - 1s 230us/step - loss: 1.0261 - accuracy: 0.7916 - val_loss: 0.4450 - val_accuracy: 0.7955\n",
            "Epoch 4/100\n",
            "5359/5359 [==============================] - 1s 203us/step - loss: 0.9748 - accuracy: 0.7960 - val_loss: 0.4250 - val_accuracy: 0.7955\n",
            "Epoch 5/100\n",
            "5359/5359 [==============================] - 1s 211us/step - loss: 0.9346 - accuracy: 0.7962 - val_loss: 0.4134 - val_accuracy: 0.7955\n",
            "Epoch 6/100\n",
            "5359/5359 [==============================] - 1s 209us/step - loss: 0.9837 - accuracy: 0.7962 - val_loss: 0.4133 - val_accuracy: 0.7955\n",
            "Epoch 7/100\n",
            "5359/5359 [==============================] - 1s 204us/step - loss: 0.9428 - accuracy: 0.7962 - val_loss: 0.4079 - val_accuracy: 0.7955\n",
            "Epoch 8/100\n",
            "5359/5359 [==============================] - 1s 212us/step - loss: 0.9487 - accuracy: 0.7962 - val_loss: 0.4101 - val_accuracy: 0.7955\n",
            "Epoch 9/100\n",
            "5359/5359 [==============================] - 1s 203us/step - loss: 0.9130 - accuracy: 0.7962 - val_loss: 0.4079 - val_accuracy: 0.7955\n",
            "Epoch 10/100\n",
            "5359/5359 [==============================] - 1s 221us/step - loss: 0.9068 - accuracy: 0.7962 - val_loss: 0.4152 - val_accuracy: 0.7955\n",
            "Epoch 11/100\n",
            "5359/5359 [==============================] - 1s 222us/step - loss: 0.9533 - accuracy: 0.7962 - val_loss: 0.4056 - val_accuracy: 0.7955\n",
            "Epoch 12/100\n",
            "5359/5359 [==============================] - 1s 204us/step - loss: 0.9606 - accuracy: 0.7962 - val_loss: 0.4128 - val_accuracy: 0.7955\n",
            "Epoch 13/100\n",
            "5359/5359 [==============================] - 1s 215us/step - loss: 0.9435 - accuracy: 0.7962 - val_loss: 0.4072 - val_accuracy: 0.7955\n",
            "Epoch 14/100\n",
            "5359/5359 [==============================] - 1s 206us/step - loss: 0.9949 - accuracy: 0.7962 - val_loss: 0.4071 - val_accuracy: 0.7955\n",
            "Epoch 15/100\n",
            "5359/5359 [==============================] - 1s 221us/step - loss: 0.9544 - accuracy: 0.7962 - val_loss: 0.4117 - val_accuracy: 0.7955\n",
            "Epoch 16/100\n",
            "5359/5359 [==============================] - 1s 244us/step - loss: 1.0046 - accuracy: 0.7962 - val_loss: 0.4078 - val_accuracy: 0.7955\n",
            "Epoch 17/100\n",
            "5359/5359 [==============================] - 1s 209us/step - loss: 0.9544 - accuracy: 0.7962 - val_loss: 0.4019 - val_accuracy: 0.7955\n",
            "Epoch 18/100\n",
            "5359/5359 [==============================] - 1s 207us/step - loss: 0.9348 - accuracy: 0.7962 - val_loss: 0.4094 - val_accuracy: 0.7955\n",
            "Epoch 19/100\n",
            "5359/5359 [==============================] - 1s 201us/step - loss: 0.9510 - accuracy: 0.7962 - val_loss: 0.4090 - val_accuracy: 0.7955\n",
            "Epoch 20/100\n",
            "5359/5359 [==============================] - 1s 201us/step - loss: 0.9586 - accuracy: 0.7962 - val_loss: 0.4151 - val_accuracy: 0.7955\n",
            "Epoch 21/100\n",
            "5359/5359 [==============================] - 1s 210us/step - loss: 0.9635 - accuracy: 0.7962 - val_loss: 0.4106 - val_accuracy: 0.7955\n",
            "Epoch 22/100\n",
            "5359/5359 [==============================] - 1s 208us/step - loss: 0.9285 - accuracy: 0.7962 - val_loss: 0.4018 - val_accuracy: 0.7955\n",
            "Epoch 23/100\n",
            "5359/5359 [==============================] - 1s 203us/step - loss: 0.9096 - accuracy: 0.7962 - val_loss: 0.4087 - val_accuracy: 0.7955\n",
            "Epoch 24/100\n",
            "5359/5359 [==============================] - 1s 201us/step - loss: 0.9134 - accuracy: 0.7962 - val_loss: 0.4007 - val_accuracy: 0.7955\n",
            "Epoch 25/100\n",
            "5359/5359 [==============================] - 1s 199us/step - loss: 0.9837 - accuracy: 0.7962 - val_loss: 0.4027 - val_accuracy: 0.7955\n",
            "Epoch 26/100\n",
            "5359/5359 [==============================] - 1s 199us/step - loss: 0.9974 - accuracy: 0.7962 - val_loss: 0.4033 - val_accuracy: 0.7955\n",
            "Epoch 27/100\n",
            "5359/5359 [==============================] - 1s 203us/step - loss: 0.9180 - accuracy: 0.7962 - val_loss: 0.4015 - val_accuracy: 0.7955\n",
            "Epoch 28/100\n",
            "5359/5359 [==============================] - 1s 206us/step - loss: 1.0046 - accuracy: 0.7962 - val_loss: 0.4064 - val_accuracy: 0.7955\n",
            "Epoch 29/100\n",
            "5359/5359 [==============================] - 1s 203us/step - loss: 1.0097 - accuracy: 0.7962 - val_loss: 0.4033 - val_accuracy: 0.7955\n",
            "Epoch 30/100\n",
            "5359/5359 [==============================] - 1s 212us/step - loss: 0.9661 - accuracy: 0.7962 - val_loss: 0.4055 - val_accuracy: 0.7955\n",
            "Epoch 31/100\n",
            "5359/5359 [==============================] - 1s 209us/step - loss: 0.9535 - accuracy: 0.7962 - val_loss: 0.4027 - val_accuracy: 0.7955\n",
            "Epoch 32/100\n",
            "5359/5359 [==============================] - 1s 206us/step - loss: 1.0105 - accuracy: 0.7962 - val_loss: 0.4033 - val_accuracy: 0.7955\n",
            "Epoch 33/100\n",
            "5359/5359 [==============================] - 1s 217us/step - loss: 1.0177 - accuracy: 0.7962 - val_loss: 0.4090 - val_accuracy: 0.7955\n",
            "Epoch 34/100\n",
            "5359/5359 [==============================] - 1s 244us/step - loss: 0.9717 - accuracy: 0.7962 - val_loss: 0.4029 - val_accuracy: 0.7955\n",
            "Epoch 35/100\n",
            "5359/5359 [==============================] - 1s 210us/step - loss: 1.0085 - accuracy: 0.7962 - val_loss: 0.4074 - val_accuracy: 0.7955\n",
            "Epoch 36/100\n",
            "5359/5359 [==============================] - 1s 236us/step - loss: 0.9631 - accuracy: 0.7962 - val_loss: 0.4042 - val_accuracy: 0.7955\n",
            "Epoch 37/100\n",
            "5359/5359 [==============================] - 1s 212us/step - loss: 0.8872 - accuracy: 0.7962 - val_loss: 0.4028 - val_accuracy: 0.7955\n",
            "Epoch 38/100\n",
            "5359/5359 [==============================] - 1s 227us/step - loss: 0.9254 - accuracy: 0.7962 - val_loss: 0.4075 - val_accuracy: 0.7955\n",
            "Epoch 39/100\n",
            "5359/5359 [==============================] - 1s 241us/step - loss: 0.9771 - accuracy: 0.7962 - val_loss: 0.4192 - val_accuracy: 0.7955\n",
            "Epoch 40/100\n",
            "5359/5359 [==============================] - 1s 238us/step - loss: 0.9338 - accuracy: 0.7962 - val_loss: 0.4003 - val_accuracy: 0.7955\n",
            "Epoch 41/100\n",
            "5359/5359 [==============================] - 1s 229us/step - loss: 0.9541 - accuracy: 0.7962 - val_loss: 0.4019 - val_accuracy: 0.7955\n",
            "Epoch 42/100\n",
            "5359/5359 [==============================] - 1s 212us/step - loss: 0.9269 - accuracy: 0.7962 - val_loss: 0.4044 - val_accuracy: 0.7955\n",
            "Epoch 43/100\n",
            "5359/5359 [==============================] - 1s 212us/step - loss: 0.9494 - accuracy: 0.7962 - val_loss: 0.4045 - val_accuracy: 0.7955\n",
            "Epoch 44/100\n",
            "5359/5359 [==============================] - 1s 204us/step - loss: 0.9230 - accuracy: 0.7962 - val_loss: 0.4031 - val_accuracy: 0.7955\n",
            "Epoch 45/100\n",
            "5359/5359 [==============================] - 1s 207us/step - loss: 0.9796 - accuracy: 0.7962 - val_loss: 0.4066 - val_accuracy: 0.7955\n",
            "Epoch 46/100\n",
            "5359/5359 [==============================] - 1s 219us/step - loss: 1.0167 - accuracy: 0.7962 - val_loss: 0.4094 - val_accuracy: 0.7955\n",
            "Epoch 47/100\n",
            "5359/5359 [==============================] - 1s 204us/step - loss: 0.9887 - accuracy: 0.7962 - val_loss: 0.4009 - val_accuracy: 0.7955\n",
            "Epoch 48/100\n",
            "5359/5359 [==============================] - 1s 209us/step - loss: 0.9309 - accuracy: 0.7962 - val_loss: 0.4054 - val_accuracy: 0.7955\n",
            "Epoch 49/100\n",
            "5359/5359 [==============================] - 1s 230us/step - loss: 1.0004 - accuracy: 0.7962 - val_loss: 0.4091 - val_accuracy: 0.7955\n",
            "Epoch 50/100\n",
            "5359/5359 [==============================] - 1s 211us/step - loss: 0.9379 - accuracy: 0.7962 - val_loss: 0.4017 - val_accuracy: 0.7955\n",
            "Epoch 51/100\n",
            "5359/5359 [==============================] - 1s 230us/step - loss: 0.9194 - accuracy: 0.7962 - val_loss: 0.4023 - val_accuracy: 0.7955\n",
            "Epoch 52/100\n",
            "5359/5359 [==============================] - 1s 199us/step - loss: 0.9433 - accuracy: 0.7962 - val_loss: 0.4067 - val_accuracy: 0.7955\n",
            "Epoch 53/100\n",
            "5359/5359 [==============================] - 1s 209us/step - loss: 0.9107 - accuracy: 0.7962 - val_loss: 0.4026 - val_accuracy: 0.7955\n",
            "Epoch 54/100\n",
            "5359/5359 [==============================] - 1s 209us/step - loss: 0.9448 - accuracy: 0.7962 - val_loss: 0.4024 - val_accuracy: 0.7955\n",
            "Epoch 55/100\n",
            "5359/5359 [==============================] - 1s 242us/step - loss: 0.9797 - accuracy: 0.7962 - val_loss: 0.4060 - val_accuracy: 0.7955\n",
            "Epoch 56/100\n",
            "5359/5359 [==============================] - 1s 203us/step - loss: 0.9607 - accuracy: 0.7962 - val_loss: 0.4052 - val_accuracy: 0.7955\n",
            "Epoch 57/100\n",
            "5359/5359 [==============================] - 1s 209us/step - loss: 0.9521 - accuracy: 0.7962 - val_loss: 0.4077 - val_accuracy: 0.7955\n",
            "Epoch 58/100\n",
            "5359/5359 [==============================] - 1s 209us/step - loss: 0.9403 - accuracy: 0.7962 - val_loss: 0.4020 - val_accuracy: 0.7955\n",
            "Epoch 59/100\n",
            "5359/5359 [==============================] - 1s 199us/step - loss: 0.9332 - accuracy: 0.7962 - val_loss: 0.4070 - val_accuracy: 0.7955\n",
            "Epoch 60/100\n",
            "5359/5359 [==============================] - 1s 210us/step - loss: 0.9104 - accuracy: 0.7962 - val_loss: 0.3994 - val_accuracy: 0.7955\n",
            "Epoch 61/100\n",
            "5359/5359 [==============================] - 1s 201us/step - loss: 0.9631 - accuracy: 0.7962 - val_loss: 0.4072 - val_accuracy: 0.7955\n",
            "Epoch 62/100\n",
            "5359/5359 [==============================] - 1s 237us/step - loss: 0.9678 - accuracy: 0.7962 - val_loss: 0.4085 - val_accuracy: 0.7955\n",
            "Epoch 63/100\n",
            "5359/5359 [==============================] - 1s 205us/step - loss: 0.9890 - accuracy: 0.7962 - val_loss: 0.4012 - val_accuracy: 0.7955\n",
            "Epoch 64/100\n",
            "5359/5359 [==============================] - 1s 203us/step - loss: 0.9688 - accuracy: 0.7962 - val_loss: 0.4000 - val_accuracy: 0.7955\n",
            "Epoch 65/100\n",
            "5359/5359 [==============================] - 1s 208us/step - loss: 0.9438 - accuracy: 0.7962 - val_loss: 0.4087 - val_accuracy: 0.7955\n",
            "Epoch 66/100\n",
            "5359/5359 [==============================] - 1s 205us/step - loss: 0.9629 - accuracy: 0.7962 - val_loss: 0.4008 - val_accuracy: 0.7955\n",
            "Epoch 67/100\n",
            "5359/5359 [==============================] - 1s 203us/step - loss: 0.9112 - accuracy: 0.7962 - val_loss: 0.3990 - val_accuracy: 0.7955\n",
            "Epoch 68/100\n",
            "5359/5359 [==============================] - 1s 205us/step - loss: 0.9398 - accuracy: 0.7962 - val_loss: 0.4100 - val_accuracy: 0.7955\n",
            "Epoch 69/100\n",
            "5359/5359 [==============================] - 1s 207us/step - loss: 0.9861 - accuracy: 0.7962 - val_loss: 0.4004 - val_accuracy: 0.7955\n",
            "Epoch 70/100\n",
            "5359/5359 [==============================] - 1s 207us/step - loss: 0.9325 - accuracy: 0.7962 - val_loss: 0.4005 - val_accuracy: 0.7955\n",
            "Epoch 71/100\n",
            "5359/5359 [==============================] - 1s 203us/step - loss: 1.0099 - accuracy: 0.7962 - val_loss: 0.4014 - val_accuracy: 0.7955\n",
            "Epoch 72/100\n",
            "5359/5359 [==============================] - 1s 232us/step - loss: 0.8871 - accuracy: 0.7962 - val_loss: 0.4035 - val_accuracy: 0.7955\n",
            "Epoch 73/100\n",
            "5359/5359 [==============================] - 1s 220us/step - loss: 0.9525 - accuracy: 0.7962 - val_loss: 0.4087 - val_accuracy: 0.7955\n",
            "Epoch 74/100\n",
            "5359/5359 [==============================] - 1s 209us/step - loss: 0.9366 - accuracy: 0.7962 - val_loss: 0.3998 - val_accuracy: 0.7955\n",
            "Epoch 75/100\n",
            "5359/5359 [==============================] - 1s 213us/step - loss: 0.9542 - accuracy: 0.7962 - val_loss: 0.4039 - val_accuracy: 0.7955\n",
            "Epoch 76/100\n",
            "5359/5359 [==============================] - 1s 231us/step - loss: 0.9281 - accuracy: 0.7962 - val_loss: 0.4037 - val_accuracy: 0.7955\n",
            "Epoch 77/100\n",
            "5359/5359 [==============================] - 1s 209us/step - loss: 0.9935 - accuracy: 0.7962 - val_loss: 0.4033 - val_accuracy: 0.7955\n",
            "Epoch 78/100\n",
            "5359/5359 [==============================] - 1s 213us/step - loss: 0.8741 - accuracy: 0.7962 - val_loss: 0.4033 - val_accuracy: 0.7955\n",
            "Epoch 79/100\n",
            "5359/5359 [==============================] - 1s 228us/step - loss: 0.9910 - accuracy: 0.7962 - val_loss: 0.4078 - val_accuracy: 0.7955\n",
            "Epoch 80/100\n",
            "5359/5359 [==============================] - 1s 210us/step - loss: 0.9286 - accuracy: 0.7962 - val_loss: 0.4070 - val_accuracy: 0.7955\n",
            "Epoch 81/100\n",
            "5359/5359 [==============================] - 1s 202us/step - loss: 0.9295 - accuracy: 0.7962 - val_loss: 0.4076 - val_accuracy: 0.7955\n",
            "Epoch 82/100\n",
            "5359/5359 [==============================] - 1s 213us/step - loss: 0.8578 - accuracy: 0.7962 - val_loss: 0.4035 - val_accuracy: 0.7955\n",
            "Epoch 83/100\n",
            "5359/5359 [==============================] - 1s 211us/step - loss: 0.9596 - accuracy: 0.7962 - val_loss: 0.4253 - val_accuracy: 0.7955\n",
            "Epoch 84/100\n",
            "5359/5359 [==============================] - 1s 207us/step - loss: 0.8735 - accuracy: 0.7962 - val_loss: 0.4012 - val_accuracy: 0.7955\n",
            "Epoch 85/100\n",
            "5359/5359 [==============================] - 1s 207us/step - loss: 0.9511 - accuracy: 0.7962 - val_loss: 0.4062 - val_accuracy: 0.7955\n",
            "Epoch 86/100\n",
            "5359/5359 [==============================] - 1s 207us/step - loss: 0.8610 - accuracy: 0.7962 - val_loss: 0.4057 - val_accuracy: 0.7955\n",
            "Epoch 87/100\n",
            "5359/5359 [==============================] - 1s 209us/step - loss: 0.9134 - accuracy: 0.7962 - val_loss: 0.4089 - val_accuracy: 0.7955\n",
            "Epoch 88/100\n",
            "5359/5359 [==============================] - 1s 208us/step - loss: 0.9367 - accuracy: 0.7962 - val_loss: 0.4145 - val_accuracy: 0.7955\n",
            "Epoch 89/100\n",
            "5359/5359 [==============================] - 1s 200us/step - loss: 0.9449 - accuracy: 0.7962 - val_loss: 0.4021 - val_accuracy: 0.7955\n",
            "Epoch 90/100\n",
            "5359/5359 [==============================] - 1s 199us/step - loss: 0.8634 - accuracy: 0.7962 - val_loss: 0.4071 - val_accuracy: 0.7955\n",
            "Epoch 91/100\n",
            "5359/5359 [==============================] - 1s 238us/step - loss: 0.9122 - accuracy: 0.7962 - val_loss: 0.4051 - val_accuracy: 0.7955\n",
            "Epoch 92/100\n",
            "5359/5359 [==============================] - 1s 208us/step - loss: 0.9453 - accuracy: 0.7962 - val_loss: 0.4138 - val_accuracy: 0.7955\n",
            "Epoch 93/100\n",
            "5359/5359 [==============================] - 1s 201us/step - loss: 0.9665 - accuracy: 0.7962 - val_loss: 0.4069 - val_accuracy: 0.7955\n",
            "Epoch 94/100\n",
            "5359/5359 [==============================] - 1s 210us/step - loss: 0.9211 - accuracy: 0.7962 - val_loss: 0.4089 - val_accuracy: 0.7955\n",
            "Epoch 95/100\n",
            "5359/5359 [==============================] - 1s 202us/step - loss: 1.0214 - accuracy: 0.7962 - val_loss: 0.4073 - val_accuracy: 0.7955\n",
            "Epoch 96/100\n",
            "5359/5359 [==============================] - 1s 217us/step - loss: 0.8607 - accuracy: 0.7962 - val_loss: 0.4046 - val_accuracy: 0.7955\n",
            "Epoch 97/100\n",
            "5359/5359 [==============================] - 1s 203us/step - loss: 0.9876 - accuracy: 0.7962 - val_loss: 0.4125 - val_accuracy: 0.7955\n",
            "Epoch 98/100\n",
            "5359/5359 [==============================] - 1s 203us/step - loss: 1.0090 - accuracy: 0.7962 - val_loss: 0.4059 - val_accuracy: 0.7955\n",
            "Epoch 99/100\n",
            "5359/5359 [==============================] - 1s 203us/step - loss: 0.9518 - accuracy: 0.7962 - val_loss: 0.4016 - val_accuracy: 0.7955\n",
            "Epoch 100/100\n",
            "5359/5359 [==============================] - 1s 201us/step - loss: 0.9506 - accuracy: 0.7962 - val_loss: 0.4028 - val_accuracy: 0.7955\n"
          ],
          "name": "stdout"
        }
      ]
    },
    {
      "cell_type": "code",
      "metadata": {
        "id": "hSYDyfc5LPdY",
        "colab_type": "code",
        "colab": {}
      },
      "source": [
        "# Part 3 - Making the predictions and evaluating the model\n",
        "\n",
        "# Predicting the Test set results\n",
        "y_pred = classifier.predict(X_test)\n",
        "y_pred = (y_pred > 0.5)"
      ],
      "execution_count": 34,
      "outputs": []
    },
    {
      "cell_type": "code",
      "metadata": {
        "id": "qFk6Bo-fLUhl",
        "colab_type": "code",
        "colab": {}
      },
      "source": [
        "# Making the Confusion Matrix\n",
        "from sklearn.metrics import confusion_matrix\n",
        "cm = confusion_matrix(y_test, y_pred)"
      ],
      "execution_count": 36,
      "outputs": []
    },
    {
      "cell_type": "code",
      "metadata": {
        "id": "yiV2X6J4Lb1c",
        "colab_type": "code",
        "colab": {
          "base_uri": "https://localhost:8080/",
          "height": 52
        },
        "outputId": "237d5ca1-c93d-436e-c9e9-2817f65000f3"
      },
      "source": [
        "cm"
      ],
      "execution_count": 37,
      "outputs": [
        {
          "output_type": "execute_result",
          "data": {
            "text/plain": [
              "array([[1595,    0],\n",
              "       [ 405,    0]])"
            ]
          },
          "metadata": {
            "tags": []
          },
          "execution_count": 37
        }
      ]
    },
    {
      "cell_type": "code",
      "metadata": {
        "id": "kYZAWCr2LXvD",
        "colab_type": "code",
        "colab": {}
      },
      "source": [
        "\n",
        "# Calculate the Accuracy\n",
        "from sklearn.metrics import accuracy_score\n",
        "score=accuracy_score(y_pred,y_test)"
      ],
      "execution_count": 38,
      "outputs": []
    },
    {
      "cell_type": "code",
      "metadata": {
        "id": "5JYFQypTLdxe",
        "colab_type": "code",
        "colab": {
          "base_uri": "https://localhost:8080/",
          "height": 35
        },
        "outputId": "161440ab-f9ac-4885-c84d-1691296c9eb8"
      },
      "source": [
        "score"
      ],
      "execution_count": 39,
      "outputs": [
        {
          "output_type": "execute_result",
          "data": {
            "text/plain": [
              "0.7975"
            ]
          },
          "metadata": {
            "tags": []
          },
          "execution_count": 39
        }
      ]
    },
    {
      "cell_type": "code",
      "metadata": {
        "id": "Z4ko8AlZKsbA",
        "colab_type": "code",
        "colab": {
          "base_uri": "https://localhost:8080/",
          "height": 313
        },
        "outputId": "353f4bf4-7796-46f1-f9ce-77421a791fa8"
      },
      "source": [
        "# list all data in history\n",
        "\n",
        "print(model_history.history.keys())\n",
        "# summarize history for accuracy\n",
        "plt.plot(model_history.history['accuracy'])\n",
        "plt.plot(model_history.history['val_accuracy'])\n",
        "plt.title('model accuracy')\n",
        "plt.ylabel('accuracy')\n",
        "plt.xlabel('epoch')\n",
        "plt.legend(['train', 'test'], loc='upper left')\n",
        "plt.show()"
      ],
      "execution_count": 41,
      "outputs": [
        {
          "output_type": "stream",
          "text": [
            "dict_keys(['val_loss', 'val_accuracy', 'loss', 'accuracy'])\n"
          ],
          "name": "stdout"
        },
        {
          "output_type": "display_data",
          "data": {
            "image/png": "[encoded data removed]",
            "text/plain": [
              "<Figure size 432x288 with 1 Axes>"
            ]
          },
          "metadata": {
            "tags": [],
            "needs_background": "light"
          }
        }
      ]
    },
    {
      "cell_type": "code",
      "metadata": {
        "id": "GN56_XoILLWM",
        "colab_type": "code",
        "colab": {}
      },
      "source": [
        ""
      ],
      "execution_count": 40,
      "outputs": []
    }
  ]
}